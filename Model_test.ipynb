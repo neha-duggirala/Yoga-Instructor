{
  "nbformat": 4,
  "nbformat_minor": 0,
  "metadata": {
    "colab": {
      "name": "Model_test.ipynb",
      "provenance": [],
      "collapsed_sections": [],
      "machine_shape": "hm",
      "authorship_tag": "ABX9TyOLgCKmiZ1/rIKXfTTEUomH",
      "include_colab_link": true
    },
    "kernelspec": {
      "name": "python3",
      "display_name": "Python 3"
    },
    "accelerator": "TPU"
  },
  "cells": [
    {
      "cell_type": "markdown",
      "metadata": {
        "id": "view-in-github",
        "colab_type": "text"
      },
      "source": [
        "<a href=\"https://colab.research.google.com/github/neha-duggirala/Yoga-Instructor/blob/master/Model_test.ipynb\" target=\"_parent\"><img src=\"https://colab.research.google.com/assets/colab-badge.svg\" alt=\"Open In Colab\"/></a>"
      ]
    },
    {
      "cell_type": "code",
      "metadata": {
        "id": "U_aTjGz-h_00",
        "colab": {
          "base_uri": "https://localhost:8080/",
          "height": 121
        },
        "outputId": "280c28aa-7432-427e-87a3-2ccd464fd52f"
      },
      "source": [
        "from google.colab import drive\n",
        "drive.mount('/content/drive')"
      ],
      "execution_count": null,
      "outputs": [
        {
          "output_type": "stream",
          "text": [
            "Go to this URL in a browser: https://accounts.google.com/o/oauth2/auth?client_id=947318989803-6bn6qk8qdgf4n4g3pfee6491hc0brc4i.apps.googleusercontent.com&redirect_uri=urn%3aietf%3awg%3aoauth%3a2.0%3aoob&response_type=code&scope=email%20https%3a%2f%2fwww.googleapis.com%2fauth%2fdocs.test%20https%3a%2f%2fwww.googleapis.com%2fauth%2fdrive%20https%3a%2f%2fwww.googleapis.com%2fauth%2fdrive.photos.readonly%20https%3a%2f%2fwww.googleapis.com%2fauth%2fpeopleapi.readonly\n",
            "\n",
            "Enter your authorization code:\n",
            "··········\n",
            "Mounted at /content/drive\n"
          ],
          "name": "stdout"
        }
      ]
    },
    {
      "cell_type": "code",
      "metadata": {
        "id": "Zeqf1QFKiGqa",
        "colab": {
          "base_uri": "https://localhost:8080/",
          "height": 34
        },
        "outputId": "3dca76bb-a682-4c32-fc2a-83f0b0e5a782"
      },
      "source": [
        "ls \"/content/drive/My Drive/datasets/Yoga DataSet/numpy_data/ALL1-8/Trail5/\""
      ],
      "execution_count": null,
      "outputs": [
        {
          "output_type": "stream",
          "text": [
            "'(300, 300)-Test-1115_data.npy'  '(300, 300)-Train-6058_data.npy'\n"
          ],
          "name": "stdout"
        }
      ]
    },
    {
      "cell_type": "code",
      "metadata": {
        "id": "RvHUAUOUi5Df",
        "colab": {
          "base_uri": "https://localhost:8080/",
          "height": 34
        },
        "outputId": "fab40c58-6e3c-4624-ea03-02a29aaf34a9"
      },
      "source": [
        "from tqdm import tqdm\n",
        "import numpy as np\n",
        "import cv2\n",
        "import os,time\n",
        "from random import shuffle\n",
        "import matplotlib.pyplot as plt\n",
        "# TensorFlow and tf.keras\n",
        "import tensorflow as tf\n",
        "from tensorflow import keras\n",
        "\n",
        "from tensorflow.python.keras.callbacks import TensorBoard\n",
        "print (\"Imported!\")"
      ],
      "execution_count": null,
      "outputs": [
        {
          "output_type": "stream",
          "text": [
            "Imported!\n"
          ],
          "name": "stdout"
        }
      ]
    },
    {
      "cell_type": "code",
      "metadata": {
        "id": "pzKuJqM-jVy3"
      },
      "source": [
        "def convertRGB(numpy_data):\n",
        "    data = []\n",
        "    for gray in numpy_data:\n",
        "          colored= cv2.cvtColor(gray[0],cv2.COLOR_GRAY2RGB)\n",
        "          data.append([colored,gray[1]])\n",
        "    data = np.asarray(data)\n",
        "    return data\n",
        "\n",
        "\n",
        "def XYsplit(data):\n",
        "    X= np.asarray([images[0] for images in data])\n",
        "    y= np.asarray([images[1] for images in data])\n",
        "    print(X.shape,y.shape,X[0].shape)\n",
        "    return X,y\n",
        "\n",
        "def numpy_attach(src,parts):\n",
        "  #need to change this name\n",
        "    name = src+\"(90, 90)-Train-2397_data\"\n",
        "    data = np.load(name+\"0.npy\",allow_pickle=True)\n",
        "    # data/=255.0\n",
        "    for i in range(1,parts):\n",
        "        n=name+str(i)+\".npy\"\n",
        "        new_data = np.load(n,allow_pickle=True)\n",
        "        # try:\n",
        "        #   new_data/=255.0\n",
        "        # except:\n",
        "          # print(\"None Error\")\n",
        "        print(n,len(data),(new_data).shape)\n",
        "        data = np.concatenate((data,new_data))\n",
        "      \n",
        "    return data\n",
        "\n",
        "def normalize(array,parts):\n",
        "  start = 0\n",
        "  end= start+(len(array)//parts)\n",
        "  print(end)\n",
        "  data=np.array(array[start:start+end])\n",
        "  for i in range(1,parts):\n",
        "    end= start+(len(array)//parts)\n",
        "    array[start:start+end]=array[start:start+end]/255.0\n",
        "  return array"
      ],
      "execution_count": null,
      "outputs": []
    },
    {
      "cell_type": "code",
      "metadata": {
        "id": "F382AP36i5mY"
      },
      "source": [
        "\n",
        "\n",
        "test_path = \"/content/drive/My Drive/datasets/Yoga DataSet/numpy_data/ALL1-8/Trail5/(300, 300)-Test-1115_data.npy\"\n",
        "train_path = \"/content/drive/My Drive/datasets/Yoga DataSet/numpy_data/ALL1-8/Trail5/(300, 300)-Train-6058_data.npy\"\n"
      ],
      "execution_count": null,
      "outputs": []
    },
    {
      "cell_type": "code",
      "metadata": {
        "id": "slYIFNgajJ4X"
      },
      "source": [
        "\n",
        "training_data=np.load(train_path,allow_pickle=True)\n",
        "test_data=np.load(test_path,allow_pickle=True)\n",
        "\n"
      ],
      "execution_count": null,
      "outputs": []
    },
    {
      "cell_type": "code",
      "metadata": {
        "id": "GQ1PYrOxjPxI"
      },
      "source": [
        "training_data=convertRGB(training_data)\n",
        "test_data=convertRGB(test_data)\n"
      ],
      "execution_count": null,
      "outputs": []
    },
    {
      "cell_type": "code",
      "metadata": {
        "id": "OKUFLwVTjQQ3",
        "colab": {
          "base_uri": "https://localhost:8080/",
          "height": 50
        },
        "outputId": "2e213fcd-0b5f-4d3d-fe81-0b5c1ca59396"
      },
      "source": [
        "trainX,trainY = XYsplit(training_data)\n",
        "testX,testY = XYsplit(test_data)\n",
        "\n"
      ],
      "execution_count": null,
      "outputs": [
        {
          "output_type": "stream",
          "text": [
            "(6058, 300, 300, 3) (6058,) (300, 300, 3)\n",
            "(1115, 300, 300, 3) (1115,) (300, 300, 3)\n"
          ],
          "name": "stdout"
        }
      ]
    },
    {
      "cell_type": "code",
      "metadata": {
        "id": "N4XoLdCwjZuZ",
        "colab": {
          "base_uri": "https://localhost:8080/",
          "height": 34
        },
        "outputId": "cfc5a619-fdce-4782-cf79-5498dee2e09a"
      },
      "source": [
        "print(\"Normalizing\")\n",
        "trainX =trainX/255.0\n",
        "testX = testX /255.0"
      ],
      "execution_count": null,
      "outputs": [
        {
          "output_type": "stream",
          "text": [
            "Normalizing\n"
          ],
          "name": "stdout"
        }
      ]
    },
    {
      "cell_type": "code",
      "metadata": {
        "id": "hNRdGisxjeLH",
        "colab": {
          "base_uri": "https://localhost:8080/",
          "height": 84
        },
        "outputId": "be5629e5-3063-4534-990d-eac4ab013bcc"
      },
      "source": [
        "ls \"/content/drive/My Drive/datasets/Yoga DataSet/models/ALL1-8/Trail1/\""
      ],
      "execution_count": null,
      "outputs": [
        {
          "output_type": "stream",
          "text": [
            "'mobileNet_v2-(300,300,3)F.h5'  'VGG16-(300,300,3)E (1).h5'\n",
            "'VGG16-(300,300,3)B.h5'         'VGG16-(300,300,3)E.h5'\n",
            "'VGG16-(300,300,3)D.h5'         'VGG16-(90,90,3)A.h5'\n",
            "'VGG16-(300,300,3)D.tflite'\n"
          ],
          "name": "stdout"
        }
      ]
    },
    {
      "cell_type": "code",
      "metadata": {
        "id": "3YrcRO2llNuD"
      },
      "source": [
        "model_path = \"/content/drive/My Drive/datasets/Yoga DataSet/models/ALL1-8/Trail1/VGG16-(300,300,3)D.h5\""
      ],
      "execution_count": null,
      "outputs": []
    },
    {
      "cell_type": "code",
      "metadata": {
        "id": "lLo2d5c2lcdX",
        "colab": {
          "base_uri": "https://localhost:8080/",
          "height": 1000
        },
        "outputId": "f484966d-df3d-42ca-97af-926139c7c4e3"
      },
      "source": [
        "from tensorflow.keras.models import load_model\n",
        "model=load_model(model_path)\n",
        "model.summary()"
      ],
      "execution_count": null,
      "outputs": [
        {
          "output_type": "stream",
          "text": [
            "Model: \"model_1\"\n",
            "_________________________________________________________________\n",
            "Layer (type)                 Output Shape              Param #   \n",
            "=================================================================\n",
            "input_2 (InputLayer)         [(None, 300, 300, 3)]     0         \n",
            "_________________________________________________________________\n",
            "block1_conv1 (Conv2D)        (None, 300, 300, 64)      1792      \n",
            "_________________________________________________________________\n",
            "block1_conv2 (Conv2D)        (None, 300, 300, 64)      36928     \n",
            "_________________________________________________________________\n",
            "block1_pool (MaxPooling2D)   (None, 150, 150, 64)      0         \n",
            "_________________________________________________________________\n",
            "block2_conv1 (Conv2D)        (None, 150, 150, 128)     73856     \n",
            "_________________________________________________________________\n",
            "block2_conv2 (Conv2D)        (None, 150, 150, 128)     147584    \n",
            "_________________________________________________________________\n",
            "block2_pool (MaxPooling2D)   (None, 75, 75, 128)       0         \n",
            "_________________________________________________________________\n",
            "block3_conv1 (Conv2D)        (None, 75, 75, 256)       295168    \n",
            "_________________________________________________________________\n",
            "block3_conv2 (Conv2D)        (None, 75, 75, 256)       590080    \n",
            "_________________________________________________________________\n",
            "block3_conv3 (Conv2D)        (None, 75, 75, 256)       590080    \n",
            "_________________________________________________________________\n",
            "block3_pool (MaxPooling2D)   (None, 37, 37, 256)       0         \n",
            "_________________________________________________________________\n",
            "block4_conv1 (Conv2D)        (None, 37, 37, 512)       1180160   \n",
            "_________________________________________________________________\n",
            "block4_conv2 (Conv2D)        (None, 37, 37, 512)       2359808   \n",
            "_________________________________________________________________\n",
            "block4_conv3 (Conv2D)        (None, 37, 37, 512)       2359808   \n",
            "_________________________________________________________________\n",
            "block4_pool (MaxPooling2D)   (None, 18, 18, 512)       0         \n",
            "_________________________________________________________________\n",
            "block5_conv1 (Conv2D)        (None, 18, 18, 512)       2359808   \n",
            "_________________________________________________________________\n",
            "block5_conv2 (Conv2D)        (None, 18, 18, 512)       2359808   \n",
            "_________________________________________________________________\n",
            "block5_conv3 (Conv2D)        (None, 18, 18, 512)       2359808   \n",
            "_________________________________________________________________\n",
            "block5_pool (MaxPooling2D)   (None, 9, 9, 512)         0         \n",
            "_________________________________________________________________\n",
            "flatten (Flatten)            (None, 41472)             0         \n",
            "_________________________________________________________________\n",
            "dense_5 (Dense)              (None, 1068)              44293164  \n",
            "_________________________________________________________________\n",
            "dropout_4 (Dropout)          (None, 1068)              0         \n",
            "_________________________________________________________________\n",
            "batch_normalization_2 (Batch (None, 1068)              4272      \n",
            "_________________________________________________________________\n",
            "dense_6 (Dense)              (None, 962)               1028378   \n",
            "_________________________________________________________________\n",
            "dropout_5 (Dropout)          (None, 962)               0         \n",
            "_________________________________________________________________\n",
            "batch_normalization_3 (Batch (None, 962)               3848      \n",
            "_________________________________________________________________\n",
            "dense_7 (Dense)              (None, 500)               481500    \n",
            "_________________________________________________________________\n",
            "batch_normalization_4 (Batch (None, 500)               2000      \n",
            "_________________________________________________________________\n",
            "dropout_6 (Dropout)          (None, 500)               0         \n",
            "_________________________________________________________________\n",
            "dense_8 (Dense)              (None, 300)               150300    \n",
            "_________________________________________________________________\n",
            "batch_normalization_5 (Batch (None, 300)               1200      \n",
            "_________________________________________________________________\n",
            "dropout_7 (Dropout)          (None, 300)               0         \n",
            "_________________________________________________________________\n",
            "dense_9 (Dense)              (None, 8)                 2408      \n",
            "=================================================================\n",
            "Total params: 60,681,758\n",
            "Trainable params: 45,961,410\n",
            "Non-trainable params: 14,720,348\n",
            "_________________________________________________________________\n"
          ],
          "name": "stdout"
        }
      ]
    },
    {
      "cell_type": "code",
      "metadata": {
        "id": "36DC3feUlq6o",
        "colab": {
          "base_uri": "https://localhost:8080/",
          "height": 50
        },
        "outputId": "d75ca0c9-28a4-42aa-bff8-4280b3302b07"
      },
      "source": [
        "model.evaluate(testX,np.array(testY))\n"
      ],
      "execution_count": null,
      "outputs": [
        {
          "output_type": "stream",
          "text": [
            "1115/1115 [==============================] - 59s 53ms/sample - loss: 1.6040 - acc: 0.6709\n"
          ],
          "name": "stdout"
        },
        {
          "output_type": "execute_result",
          "data": {
            "text/plain": [
              "[1.6040122705724742, 0.670852]"
            ]
          },
          "metadata": {
            "tags": []
          },
          "execution_count": 15
        }
      ]
    },
    {
      "cell_type": "code",
      "metadata": {
        "id": "emMCIAhSl674",
        "colab": {
          "base_uri": "https://localhost:8080/",
          "height": 202
        },
        "outputId": "fe20838d-f802-4dce-e146-7d3bcee9ba63"
      },
      "source": [
        "history = model.fit(trainX, trainY, \n",
        "                    batch_size=128,\n",
        "                    epochs=5,\n",
        "                    verbose=1,\n",
        "                    # callbacks=[es],\n",
        "                    validation_split=0.2\n",
        "                    )"
      ],
      "execution_count": null,
      "outputs": [
        {
          "output_type": "stream",
          "text": [
            "Train on 4846 samples, validate on 1212 samples\n",
            "Epoch 1/5\n",
            "4846/4846 [==============================] - 336s 69ms/sample - loss: 1.8748 - acc: 0.5134 - val_loss: 1.7089 - val_acc: 0.4125\n",
            "Epoch 2/5\n",
            "4846/4846 [==============================] - 328s 68ms/sample - loss: 1.2402 - acc: 0.5634 - val_loss: 1.2311 - val_acc: 0.5635\n",
            "Epoch 3/5\n",
            "4846/4846 [==============================] - 327s 67ms/sample - loss: 1.0334 - acc: 0.6294 - val_loss: 1.0463 - val_acc: 0.6081\n",
            "Epoch 4/5\n",
            "4846/4846 [==============================] - 326s 67ms/sample - loss: 0.9020 - acc: 0.6816 - val_loss: 1.1662 - val_acc: 0.6180\n",
            "Epoch 5/5\n",
            "4846/4846 [==============================] - 326s 67ms/sample - loss: 0.8206 - acc: 0.7105 - val_loss: 0.9469 - val_acc: 0.6733\n"
          ],
          "name": "stdout"
        }
      ]
    },
    {
      "cell_type": "code",
      "metadata": {
        "id": "CeKWM1AgqX0V",
        "colab": {
          "base_uri": "https://localhost:8080/",
          "height": 202
        },
        "outputId": "ce1da1e0-f0c4-4134-f0e7-eaff53a8b95e"
      },
      "source": [
        "history = model.fit(trainX, trainY, \n",
        "                    batch_size=128,\n",
        "                    epochs=5,\n",
        "                    verbose=1,\n",
        "                    # callbacks=[es],\n",
        "                    validation_split=0.2\n",
        "                    )"
      ],
      "execution_count": null,
      "outputs": [
        {
          "output_type": "stream",
          "text": [
            "Train on 4846 samples, validate on 1212 samples\n",
            "Epoch 1/5\n",
            "4846/4846 [==============================] - 326s 67ms/sample - loss: 0.7634 - acc: 0.7307 - val_loss: 0.8907 - val_acc: 0.6997\n",
            "Epoch 2/5\n",
            "4846/4846 [==============================] - 325s 67ms/sample - loss: 0.7216 - acc: 0.7551 - val_loss: 1.1744 - val_acc: 0.5990\n",
            "Epoch 3/5\n",
            "4846/4846 [==============================] - 325s 67ms/sample - loss: 0.7325 - acc: 0.7346 - val_loss: 1.1534 - val_acc: 0.5842\n",
            "Epoch 4/5\n",
            "4846/4846 [==============================] - 325s 67ms/sample - loss: 0.6861 - acc: 0.7577 - val_loss: 1.1746 - val_acc: 0.5825\n",
            "Epoch 5/5\n",
            "4846/4846 [==============================] - 325s 67ms/sample - loss: 0.6656 - acc: 0.7648 - val_loss: 0.9629 - val_acc: 0.6625\n"
          ],
          "name": "stdout"
        }
      ]
    }
  ]
}