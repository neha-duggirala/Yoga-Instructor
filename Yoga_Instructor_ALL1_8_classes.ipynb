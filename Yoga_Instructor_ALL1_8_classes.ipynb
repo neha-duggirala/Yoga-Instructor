{
  "nbformat": 4,
  "nbformat_minor": 0,
  "metadata": {
    "colab": {
      "name": "Yoga Instructor ALL1-8 classes",
      "provenance": [],
      "collapsed_sections": [],
      "machine_shape": "hm",
      "include_colab_link": true
    },
    "kernelspec": {
      "name": "python3",
      "display_name": "Python 3"
    },
    "accelerator": "TPU"
  },
  "cells": [
    {
      "cell_type": "markdown",
      "metadata": {
        "id": "view-in-github",
        "colab_type": "text"
      },
      "source": [
        "<a href=\"https://colab.research.google.com/github/neha-duggirala/Yoga-Instructor/blob/master/Yoga_Instructor_ALL1_8_classes.ipynb\" target=\"_parent\"><img src=\"https://colab.research.google.com/assets/colab-badge.svg\" alt=\"Open In Colab\"/></a>"
      ]
    },
    {
      "cell_type": "code",
      "metadata": {
        "id": "2zuUILqf6ipA",
        "colab": {
          "base_uri": "https://localhost:8080/",
          "height": 34
        },
        "outputId": "495d2564-1a25-48d2-9e4d-704b18bc1f1c"
      },
      "source": [
        "from google.colab import drive\n",
        "drive.mount('/content/drive')"
      ],
      "execution_count": null,
      "outputs": [
        {
          "output_type": "stream",
          "text": [
            "Drive already mounted at /content/drive; to attempt to forcibly remount, call drive.mount(\"/content/drive\", force_remount=True).\n"
          ],
          "name": "stdout"
        }
      ]
    },
    {
      "cell_type": "code",
      "metadata": {
        "id": "zIE5FYqG0GnN",
        "colab": {
          "base_uri": "https://localhost:8080/",
          "height": 50
        },
        "outputId": "81c70d5b-6edb-4d19-e907-830f6d42341a"
      },
      "source": [
        "ls \"/content/drive/My Drive/datasets/Yoga DataSet/\""
      ],
      "execution_count": null,
      "outputs": [
        {
          "output_type": "stream",
          "text": [
            "'Demo for BFDI.mp4'  'demo yoga.mp4'   \u001b[0m\u001b[01;34mnumpy_data\u001b[0m/   \u001b[01;34mto_be_Sorted\u001b[0m/\n",
            "\u001b[01;34m'Demo Images'\u001b[0m/        \u001b[01;34mmodels\u001b[0m/          test.jpg      yogasteps.docx\n"
          ],
          "name": "stdout"
        }
      ]
    },
    {
      "cell_type": "code",
      "metadata": {
        "id": "pI-Mpps76pNH",
        "colab": {
          "base_uri": "https://localhost:8080/",
          "height": 34
        },
        "outputId": "f1bb315e-dc79-4382-a88d-1a8d01777eee"
      },
      "source": [
        "from tqdm import tqdm\n",
        "import numpy as np\n",
        "import cv2\n",
        "import os,time\n",
        "from random import shuffle\n",
        "import matplotlib.pyplot as plt\n",
        "# TensorFlow and tf.keras\n",
        "import tensorflow as tf\n",
        "from tensorflow import keras\n",
        "\n",
        "from tensorflow.python.keras.callbacks import TensorBoard\n",
        "print (\"Imported!\",tf.__version__)"
      ],
      "execution_count": null,
      "outputs": [
        {
          "output_type": "stream",
          "text": [
            "Imported! 2.1.0\n"
          ],
          "name": "stdout"
        }
      ]
    },
    {
      "cell_type": "code",
      "metadata": {
        "id": "irMG0bXl7CQ1"
      },
      "source": [
        "def convertRGB(numpy_data):\n",
        "    data = []\n",
        "    for gray in numpy_data:\n",
        "          colored= cv2.cvtColor(gray[0],cv2.COLOR_GRAY2RGB)\n",
        "          data.append([colored,gray[1]])\n",
        "    data = np.asarray(data)\n",
        "    return data\n",
        "\n",
        "\n",
        "def XYsplit(data):\n",
        "    X= np.asarray([images[0] for images in data])\n",
        "    y= np.asarray([images[1] for images in data])\n",
        "    print(X.shape,y.shape,X[0].shape)\n",
        "    return X,y\n",
        "\n",
        "def numpy_attach(src,parts):\n",
        "  #need to change this name\n",
        "    name = src+\"(90, 90)-Train-2397_data\"\n",
        "    data = np.load(name+\"0.npy\",allow_pickle=True)\n",
        "    # data/=255.0\n",
        "    for i in range(1,parts):\n",
        "        n=name+str(i)+\".npy\"\n",
        "        new_data = np.load(n,allow_pickle=True)\n",
        "        # try:\n",
        "        #   new_data/=255.0\n",
        "        # except:\n",
        "          # print(\"None Error\")\n",
        "        print(n,len(data),(new_data).shape)\n",
        "        data = np.concatenate((data,new_data))\n",
        "      \n",
        "    return data\n",
        "\n",
        "def normalize(array,parts):\n",
        "  start = 0\n",
        "  end= start+(len(array)//parts)\n",
        "  print(end)\n",
        "  data=np.array(array[start:start+end])\n",
        "  for i in range(1,parts):\n",
        "    end= start+(len(array)//parts)\n",
        "    array[start:start+end]=array[start:start+end]/255.0\n",
        "  return array"
      ],
      "execution_count": null,
      "outputs": []
    },
    {
      "cell_type": "code",
      "metadata": {
        "id": "qrWuZPuS62Xl",
        "colab": {
          "base_uri": "https://localhost:8080/",
          "height": 50
        },
        "outputId": "8f92591c-010a-4c8f-fe66-67404f65ec29"
      },
      "source": [
        "ls \"/content/drive/My Drive/datasets/Yoga DataSet/numpy_data/ALL1-8/Trail4\""
      ],
      "execution_count": null,
      "outputs": [
        {
          "output_type": "stream",
          "text": [
            "'(224, 224)-Test-598_data.npy'    '(300, 300)-Test-1044_data.npy'\n",
            "'(224, 224)-Train-4109_data.npy'  '(300, 300)-Train-3420_data.npy'\n"
          ],
          "name": "stdout"
        }
      ]
    },
    {
      "cell_type": "code",
      "metadata": {
        "id": "hAYYQGH07IgH"
      },
      "source": [
        "\n",
        "\n",
        "test_path = \"/content/drive/My Drive/datasets/Yoga DataSet/numpy_data/ALL1-8/Trail4/(300, 300)-Test-1044_data.npy\"\n",
        "train_path = \"/content/drive/My Drive/datasets/Yoga DataSet/numpy_data/ALL1-8/Trail4/(300, 300)-Train-3420_data.npy\"\n"
      ],
      "execution_count": null,
      "outputs": []
    },
    {
      "cell_type": "code",
      "metadata": {
        "id": "rhl0vKlZYWw1"
      },
      "source": [
        "\n",
        "training_data=np.load(train_path,allow_pickle=True)\n",
        "test_data=np.load(test_path,allow_pickle=True)\n"
      ],
      "execution_count": null,
      "outputs": []
    },
    {
      "cell_type": "code",
      "metadata": {
        "id": "CZzTtmGbK2T0"
      },
      "source": [
        "training_data=convertRGB(training_data)\n",
        "test_data=convertRGB(test_data)\n"
      ],
      "execution_count": null,
      "outputs": []
    },
    {
      "cell_type": "code",
      "metadata": {
        "id": "nTwiCxNZiaaI",
        "colab": {
          "base_uri": "https://localhost:8080/",
          "height": 50
        },
        "outputId": "b155c244-cb6b-47fb-b6ea-7200aa95f189"
      },
      "source": [
        "trainX,trainY = XYsplit(training_data)\n",
        "testX,testY = XYsplit(test_data)\n",
        "\n"
      ],
      "execution_count": null,
      "outputs": [
        {
          "output_type": "stream",
          "text": [
            "(3420, 300, 300, 3) (3420,) (300, 300, 3)\n",
            "(1044, 300, 300, 3) (1044,) (300, 300, 3)\n"
          ],
          "name": "stdout"
        }
      ]
    },
    {
      "cell_type": "code",
      "metadata": {
        "id": "NgIHWmlpEeit",
        "colab": {
          "base_uri": "https://localhost:8080/",
          "height": 34
        },
        "outputId": "95e0e695-853b-44e8-c87a-085cd477fda4"
      },
      "source": [
        "print(\"Normalizing\")\n",
        "trainX =trainX/255.0\n",
        "testX = testX /255.0"
      ],
      "execution_count": null,
      "outputs": [
        {
          "output_type": "stream",
          "text": [
            "Normalizing\n"
          ],
          "name": "stdout"
        }
      ]
    },
    {
      "cell_type": "code",
      "metadata": {
        "id": "jf5GVgmrNB7O"
      },
      "source": [
        "from google.colab import files\n",
        "files.upload()"
      ],
      "execution_count": null,
      "outputs": []
    },
    {
      "cell_type": "code",
      "metadata": {
        "id": "9hq8bmcgNDag"
      },
      "source": [
        "!unzip keras-cyclical-learning-rates.zip"
      ],
      "execution_count": null,
      "outputs": []
    },
    {
      "cell_type": "code",
      "metadata": {
        "id": "bCBYowJxNH8a"
      },
      "source": [
        "%cd keras-cyclical-learning-rates/pyimagesearch/"
      ],
      "execution_count": null,
      "outputs": []
    },
    {
      "cell_type": "code",
      "metadata": {
        "id": "vF3bJFz5FrVb"
      },
      "source": [
        "import sys,tensorflow as tf\n",
        "from tensorflow.keras.models import Sequential,Model\n",
        "from tensorflow.keras.layers import Dense, Dropout, Activation, Flatten\n",
        "from tensorflow.keras.layers import Conv2D, MaxPooling2D , AveragePooling2D\n",
        "from tensorflow.keras.callbacks import EarlyStopping\n",
        "from tensorflow.keras import optimizers\n",
        "from tensorflow.keras.layers import Input,BatchNormalization"
      ],
      "execution_count": null,
      "outputs": []
    },
    {
      "cell_type": "code",
      "metadata": {
        "id": "fMF5Ws_Hx52H"
      },
      "source": [
        "# mobileNet_v2 = tf.keras.applications.mobilenet_v2.MobileNetV2(weights = \"imagenet\", \n",
        "#                                                            include_top=False,\n",
        "#                                                       input_tensor=Input(shape=trainX[0].shape),\n",
        "#                                                       alpha =0.75                                                )\n",
        "\n",
        "# for layers in mobileNet_v2.layers[1:]:\n",
        "#   mobileNet_v2.trainable=False\n",
        "# # mobileNet_v2.summary()"
      ],
      "execution_count": null,
      "outputs": []
    },
    {
      "cell_type": "code",
      "metadata": {
        "id": "Acfw_UmUa_ub"
      },
      "source": [
        "# mobileNet = tf.keras.applications.mobilenet.MobileNet(weights = \"imagenet\", \n",
        "#                                                            include_top=False,\n",
        "#                                                       input_tensor=Input(shape=trainX[0].shape),\n",
        "#                                                       # alpha = \n",
        "#                                                       )\n",
        "# for layers in mobileNet.layers[1:]:\n",
        "#   mobileNet.trainable=False\n",
        "# # mobileNet.summary()"
      ],
      "execution_count": null,
      "outputs": []
    },
    {
      "cell_type": "code",
      "metadata": {
        "id": "OI5-8ycR6LbD"
      },
      "source": [
        "# inception_resnet = tf.keras.applications.inception_resnet_v2.InceptionResNetV2(weights=\"imagenet\",\n",
        "# \t\t# classes=8,\n",
        "#     include_top=False,\t\t\t\t\t\t\t\t\t\t\t\t\t\t\t\t\t\t\t\t\t                     \n",
        "# \tinput_tensor=Input(shape=trainX[0].shape))\n",
        "# for layers in inception_resnet.layers[1:]:\n",
        "#   inception_resnet.trainable=False\n",
        "# # inception_resnet.summary()"
      ],
      "execution_count": null,
      "outputs": []
    },
    {
      "cell_type": "code",
      "metadata": {
        "id": "9OUhj4DlcCz-"
      },
      "source": [
        "# inception = tf.keras.applications.inception_v3.InceptionV3(weights=\"imagenet\",\n",
        "# \t\t# classes=8,\n",
        "#     include_top=False,\t\t\t\t\t\t\t\t\t\t\t\t\t\t\t\t\t\t\t\t\t                     \n",
        "# \tinput_tensor=Input(shape=trainX[0].shape))\n",
        "# for layers in inception.layers[1:]:\n",
        "#   inception.trainable=False\n",
        "# inception.summary()"
      ],
      "execution_count": null,
      "outputs": []
    },
    {
      "cell_type": "code",
      "metadata": {
        "id": "c0onfecOF4Gz"
      },
      "source": [
        "# resnet = tf.keras.applications.resnet.ResNet152(weights=\"imagenet\",\n",
        "# \t\t# classes=8,\n",
        "#     include_top=False,\t\t\t\t\t\t\t\t\t\t\t\t\t\t\t\t\t\t\t\t\t                     \n",
        "# \tinput_tensor=Input(shape=trainX[0].shape))\n",
        "# for layers in resnet.layers[1:]:\n",
        "#   resnet.trainable=False\n",
        "# resnet.summary()"
      ],
      "execution_count": null,
      "outputs": []
    },
    {
      "cell_type": "code",
      "metadata": {
        "id": "7j0uE1RtF4_D"
      },
      "source": [
        "vgg16 = tf.keras.applications.vgg16.VGG16(weights=\"imagenet\", include_top=False,\n",
        "\tinput_tensor=Input(shape=trainX[0].shape))\n",
        "for layers in vgg16.layers[1:]:\n",
        "  layers.trainable=False"
      ],
      "execution_count": null,
      "outputs": []
    },
    {
      "cell_type": "code",
      "metadata": {
        "id": "NqEuvmrUmvJm"
      },
      "source": [
        ""
      ],
      "execution_count": null,
      "outputs": []
    },
    {
      "cell_type": "code",
      "metadata": {
        "id": "Sb6Afk12GBNK"
      },
      "source": [
        "headModel = vgg16.output\n",
        "headModel = Flatten(name=\"flatten\")(headModel)\n",
        "headModel = Dense(1028,activation=\"relu\")(headModel)\n",
        "headModel = Dropout(0.5)(headModel)\n",
        "headModel = BatchNormalization(axis=1)(headModel)\n",
        "headModel = Dense(685, activation=\"relu\")(headModel)\n",
        "headModel = Dropout(0.45)(headModel)\n",
        "headModel = BatchNormalization(axis=1)(headModel)\n",
        "headModel = Dense(300, activation=\"relu\")(headModel)\n",
        "# headModel = Dropout(0.45)(headModel)\n",
        "headModel = BatchNormalization(axis=1)(headModel)\n",
        "headModel = Dense(8, activation=\"softmax\")(headModel)\n",
        " \n",
        "\n",
        "model = Model(inputs=vgg16.input, outputs=headModel)"
      ],
      "execution_count": null,
      "outputs": []
    },
    {
      "cell_type": "code",
      "metadata": {
        "id": "biJfXR4Bt7g_"
      },
      "source": [
        ""
      ],
      "execution_count": null,
      "outputs": []
    },
    {
      "cell_type": "code",
      "metadata": {
        "id": "tppzYjG5GBEl",
        "colab": {
          "base_uri": "https://localhost:8080/",
          "height": 1000
        },
        "outputId": "b3bb7dd4-5854-4ce9-af72-e58eedaf22d4"
      },
      "source": [
        "model.summary()"
      ],
      "execution_count": null,
      "outputs": [
        {
          "output_type": "stream",
          "text": [
            "Model: \"model\"\n",
            "_________________________________________________________________\n",
            "Layer (type)                 Output Shape              Param #   \n",
            "=================================================================\n",
            "input_1 (InputLayer)         [(None, 300, 300, 3)]     0         \n",
            "_________________________________________________________________\n",
            "block1_conv1 (Conv2D)        (None, 300, 300, 64)      1792      \n",
            "_________________________________________________________________\n",
            "block1_conv2 (Conv2D)        (None, 300, 300, 64)      36928     \n",
            "_________________________________________________________________\n",
            "block1_pool (MaxPooling2D)   (None, 150, 150, 64)      0         \n",
            "_________________________________________________________________\n",
            "block2_conv1 (Conv2D)        (None, 150, 150, 128)     73856     \n",
            "_________________________________________________________________\n",
            "block2_conv2 (Conv2D)        (None, 150, 150, 128)     147584    \n",
            "_________________________________________________________________\n",
            "block2_pool (MaxPooling2D)   (None, 75, 75, 128)       0         \n",
            "_________________________________________________________________\n",
            "block3_conv1 (Conv2D)        (None, 75, 75, 256)       295168    \n",
            "_________________________________________________________________\n",
            "block3_conv2 (Conv2D)        (None, 75, 75, 256)       590080    \n",
            "_________________________________________________________________\n",
            "block3_conv3 (Conv2D)        (None, 75, 75, 256)       590080    \n",
            "_________________________________________________________________\n",
            "block3_pool (MaxPooling2D)   (None, 37, 37, 256)       0         \n",
            "_________________________________________________________________\n",
            "block4_conv1 (Conv2D)        (None, 37, 37, 512)       1180160   \n",
            "_________________________________________________________________\n",
            "block4_conv2 (Conv2D)        (None, 37, 37, 512)       2359808   \n",
            "_________________________________________________________________\n",
            "block4_conv3 (Conv2D)        (None, 37, 37, 512)       2359808   \n",
            "_________________________________________________________________\n",
            "block4_pool (MaxPooling2D)   (None, 18, 18, 512)       0         \n",
            "_________________________________________________________________\n",
            "block5_conv1 (Conv2D)        (None, 18, 18, 512)       2359808   \n",
            "_________________________________________________________________\n",
            "block5_conv2 (Conv2D)        (None, 18, 18, 512)       2359808   \n",
            "_________________________________________________________________\n",
            "block5_conv3 (Conv2D)        (None, 18, 18, 512)       2359808   \n",
            "_________________________________________________________________\n",
            "block5_pool (MaxPooling2D)   (None, 9, 9, 512)         0         \n",
            "_________________________________________________________________\n",
            "flatten (Flatten)            (None, 41472)             0         \n",
            "_________________________________________________________________\n",
            "dense (Dense)                (None, 1028)              42634244  \n",
            "_________________________________________________________________\n",
            "dropout (Dropout)            (None, 1028)              0         \n",
            "_________________________________________________________________\n",
            "batch_normalization (BatchNo (None, 1028)              4112      \n",
            "_________________________________________________________________\n",
            "dense_1 (Dense)              (None, 685)               704865    \n",
            "_________________________________________________________________\n",
            "dropout_1 (Dropout)          (None, 685)               0         \n",
            "_________________________________________________________________\n",
            "batch_normalization_1 (Batch (None, 685)               2740      \n",
            "_________________________________________________________________\n",
            "dense_2 (Dense)              (None, 300)               205800    \n",
            "_________________________________________________________________\n",
            "batch_normalization_2 (Batch (None, 300)               1200      \n",
            "_________________________________________________________________\n",
            "dense_3 (Dense)              (None, 8)                 2408      \n",
            "=================================================================\n",
            "Total params: 58,270,057\n",
            "Trainable params: 43,551,343\n",
            "Non-trainable params: 14,718,714\n",
            "_________________________________________________________________\n"
          ],
          "name": "stdout"
        }
      ]
    },
    {
      "cell_type": "code",
      "metadata": {
        "id": "FFgGfm-1NfOL"
      },
      "source": [
        "from keras.callbacks import *\n",
        "from clr_callback import *\n",
        "from keras.optimizers import Adam\n",
        "\n",
        "# You are using the triangular learning rate policy and\n",
        "#  base_lr (initial learning rate which is the lower boundary in the cycle) is 0.1\n",
        "clr_triangular = CyclicLR(mode='triangular')\n",
        "model.compile(optimizer=Adam(0.1), loss='categorical_crossentropy', metrics=['accuracy'])"
      ],
      "execution_count": null,
      "outputs": []
    },
    {
      "cell_type": "code",
      "metadata": {
        "id": "og5wY0mlGBCC",
        "colab": {
          "base_uri": "https://localhost:8080/",
          "height": 605
        },
        "outputId": "cdddfc83-2099-420a-c762-19a1595a2a29"
      },
      "source": [
        "model.compile(loss='sparse_categorical_crossentropy',\n",
        "              optimizer=\"adam\",\n",
        "              metrics=['accuracy'])\n",
        "es = EarlyStopping(monitor='val_loss', mode='min', verbose=1,patience=10)\n",
        "history = model.fit(trainX, trainY, \n",
        "                    batch_size=128,\n",
        "                    epochs=20,\n",
        "                    verbose=1,\n",
        "                    # callbacks=[es],\n",
        "                    validation_split=0.15\n",
        "                    )"
      ],
      "execution_count": null,
      "outputs": [
        {
          "output_type": "stream",
          "text": [
            "Train on 2907 samples, validate on 513 samples\n",
            "Epoch 1/20\n",
            "2907/2907 [==============================] - 194s 67ms/sample - loss: 2.3840 - accuracy: 0.2250 - val_loss: 1.9236 - val_accuracy: 0.3762\n",
            "Epoch 2/20\n",
            "2907/2907 [==============================] - 188s 65ms/sample - loss: 1.7284 - accuracy: 0.4107 - val_loss: 1.6278 - val_accuracy: 0.4016\n",
            "Epoch 3/20\n",
            "2907/2907 [==============================] - 188s 65ms/sample - loss: 1.3800 - accuracy: 0.5236 - val_loss: 1.3187 - val_accuracy: 0.5166\n",
            "Epoch 4/20\n",
            "2907/2907 [==============================] - 189s 65ms/sample - loss: 1.0881 - accuracy: 0.6147 - val_loss: 1.1015 - val_accuracy: 0.6062\n",
            "Epoch 5/20\n",
            "2907/2907 [==============================] - 189s 65ms/sample - loss: 0.8665 - accuracy: 0.6894 - val_loss: 0.9265 - val_accuracy: 0.6959\n",
            "Epoch 6/20\n",
            "2907/2907 [==============================] - 191s 66ms/sample - loss: 0.7322 - accuracy: 0.7393 - val_loss: 0.9448 - val_accuracy: 0.6550\n",
            "Epoch 7/20\n",
            "2907/2907 [==============================] - 191s 66ms/sample - loss: 0.5910 - accuracy: 0.7946 - val_loss: 0.8657 - val_accuracy: 0.6530\n",
            "Epoch 8/20\n",
            "2907/2907 [==============================] - 194s 67ms/sample - loss: 0.5449 - accuracy: 0.8101 - val_loss: 0.9020 - val_accuracy: 0.6842\n",
            "Epoch 9/20\n",
            "2907/2907 [==============================] - 196s 68ms/sample - loss: 0.4720 - accuracy: 0.8380 - val_loss: 1.2567 - val_accuracy: 0.6043\n",
            "Epoch 10/20\n",
            "2907/2907 [==============================] - 204s 70ms/sample - loss: 0.4691 - accuracy: 0.8301 - val_loss: 0.8559 - val_accuracy: 0.7173\n",
            "Epoch 11/20\n",
            "2907/2907 [==============================] - 198s 68ms/sample - loss: 0.4098 - accuracy: 0.8559 - val_loss: 0.9027 - val_accuracy: 0.6959\n",
            "Epoch 12/20\n",
            "2907/2907 [==============================] - 193s 66ms/sample - loss: 0.3613 - accuracy: 0.8762 - val_loss: 1.3245 - val_accuracy: 0.6179\n",
            "Epoch 13/20\n",
            "2907/2907 [==============================] - 197s 68ms/sample - loss: 0.3488 - accuracy: 0.8779 - val_loss: 1.5178 - val_accuracy: 0.5361\n",
            "Epoch 14/20\n",
            "2907/2907 [==============================] - 202s 70ms/sample - loss: 0.3302 - accuracy: 0.8844 - val_loss: 1.0004 - val_accuracy: 0.6823\n",
            "Epoch 15/20\n",
            "2907/2907 [==============================] - 193s 66ms/sample - loss: 0.3245 - accuracy: 0.8872 - val_loss: 1.3465 - val_accuracy: 0.6160\n",
            "Epoch 16/20\n",
            "2907/2907 [==============================] - 191s 66ms/sample - loss: 0.3166 - accuracy: 0.8913 - val_loss: 1.3542 - val_accuracy: 0.6569\n",
            "Epoch 17/20\n",
            "2816/2907 [============================>.] - ETA: 5s - loss: 0.2571 - accuracy: 0.9080 "
          ],
          "name": "stdout"
        }
      ]
    },
    {
      "cell_type": "code",
      "metadata": {
        "id": "1XCMGTczGA5J",
        "colab": {
          "base_uri": "https://localhost:8080/",
          "height": 50
        },
        "outputId": "bcc79a3c-713d-4b5f-d743-5bb2950d2be5"
      },
      "source": [
        "model.evaluate(testX,np.array(testY))"
      ],
      "execution_count": null,
      "outputs": [
        {
          "output_type": "stream",
          "text": [
            "1044/1044 [==============================] - 47s 45ms/sample - loss: 2.6357 - acc: 0.5651\n"
          ],
          "name": "stdout"
        },
        {
          "output_type": "execute_result",
          "data": {
            "text/plain": [
              "[2.635702184333655, 0.5651341]"
            ]
          },
          "metadata": {
            "tags": []
          },
          "execution_count": 112
        }
      ]
    },
    {
      "cell_type": "code",
      "metadata": {
        "id": "2qEw2Etqfe3a"
      },
      "source": [
        "def plot_graphs(history):\n",
        "  plt.plot(history.history[\"val_acc\"])\n",
        "  plt.plot(history.history[\"val_loss\"])\n",
        "  plt.plot(history.history[\"acc\"])\n",
        "  plt.plot(history.history[\"loss\"])\n",
        "  plt.xlabel(\"Epochs\")\n",
        "  plt.ylabel(\"accuracy\")\n",
        "  plt.legend([\"Validation Accuracy\",\"Validation loss\",\"Accuracy\",\"Loss\"])\n",
        "  plt.show()\n",
        "plot_graphs(history)"
      ],
      "execution_count": null,
      "outputs": []
    },
    {
      "cell_type": "code",
      "metadata": {
        "id": "WPJvZp3Sfipr"
      },
      "source": [
        "model.save(\"/content/drive/My Drive/datasets/Yoga DataSet/models/ALL1-8/Trail4/inception_resnet-(300,300,3)E.h5\")"
      ],
      "execution_count": null,
      "outputs": []
    },
    {
      "cell_type": "code",
      "metadata": {
        "id": "yewbwTsjZPCS",
        "colab": {
          "base_uri": "https://localhost:8080/",
          "height": 202
        },
        "outputId": "0f8973f6-fdff-4d06-8f7e-7471c5248018"
      },
      "source": [
        "history = model.fit(trainX, trainY, \n",
        "                    batch_size=128,\n",
        "                    epochs=5,\n",
        "                    verbose=1,\n",
        "                    # callbacks=[es],\n",
        "                    validation_split=0.2\n",
        "                    )"
      ],
      "execution_count": null,
      "outputs": [
        {
          "output_type": "stream",
          "text": [
            "Train on 1908 samples, validate on 478 samples\n",
            "Epoch 1/5\n",
            "1908/1908 [==============================] - 34s 18ms/sample - loss: 0.0327 - acc: 0.9916 - val_loss: 0.8701 - val_acc: 0.7699\n",
            "Epoch 2/5\n",
            "1908/1908 [==============================] - 34s 18ms/sample - loss: 0.0386 - acc: 0.9885 - val_loss: 0.9040 - val_acc: 0.7594\n",
            "Epoch 3/5\n",
            "1908/1908 [==============================] - 35s 18ms/sample - loss: 0.0331 - acc: 0.9885 - val_loss: 1.0495 - val_acc: 0.7301\n",
            "Epoch 4/5\n",
            "1908/1908 [==============================] - 34s 18ms/sample - loss: 0.0294 - acc: 0.9874 - val_loss: 1.1522 - val_acc: 0.7155\n",
            "Epoch 5/5\n",
            "1908/1908 [==============================] - 34s 18ms/sample - loss: 0.0276 - acc: 0.9906 - val_loss: 1.0954 - val_acc: 0.7322\n"
          ],
          "name": "stdout"
        }
      ]
    },
    {
      "cell_type": "code",
      "metadata": {
        "id": "BI3_APnEZQn_",
        "colab": {
          "base_uri": "https://localhost:8080/",
          "height": 50
        },
        "outputId": "dfd21dc3-f64a-4efd-ff47-9dd8d894f1fb"
      },
      "source": [
        "model.evaluate(testX,np.array(testY))"
      ],
      "execution_count": null,
      "outputs": [
        {
          "output_type": "stream",
          "text": [
            "598/598 [==============================] - 6s 10ms/sample - loss: 1.2258 - acc: 0.7007\n"
          ],
          "name": "stdout"
        },
        {
          "output_type": "execute_result",
          "data": {
            "text/plain": [
              "[1.2258075455758086, 0.7006689]"
            ]
          },
          "metadata": {
            "tags": []
          },
          "execution_count": 47
        }
      ]
    },
    {
      "cell_type": "code",
      "metadata": {
        "id": "Oqi5JmIWGWSP"
      },
      "source": [
        "from tensorflow import lite\n",
        "converter = lite.TFLiteConverter.from_keras_model_file( \"/content/drive/My Drive/datasets/Yoga DataSet/models/ALL1-8/Trail1/VGG16-(300,300,3)D.h5\" ) \n",
        "model = converter.convert()\n",
        "\n",
        "file = open( '/content/drive/My Drive/datasets/Yoga DataSet/models/ALL1-8/Trail1/VGG16-(300,300,3)D.tflite' , 'wb' ) \n",
        "file.write( model )\n"
      ],
      "execution_count": null,
      "outputs": []
    }
  ]
}